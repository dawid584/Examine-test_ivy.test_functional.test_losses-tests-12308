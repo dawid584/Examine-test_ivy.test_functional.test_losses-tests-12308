{
 "cells": [
  {
   "cell_type": "code",
   "execution_count": 139,
   "id": "417915a1",
   "metadata": {},
   "outputs": [],
   "source": [
    "import numpy as np\n",
    "import matplotlib.pyplot as plt\n",
    "import seaborn as sns\n",
    "import tensorflow as tf\n",
    "from scipy.stats import entropy"
   ]
  },
  {
   "cell_type": "code",
   "execution_count": 140,
   "id": "6e564163",
   "metadata": {},
   "outputs": [
    {
     "name": "stdout",
     "output_type": "stream",
     "text": [
      "P=4.500 Q=4.500\n"
     ]
    }
   ],
   "source": [
    "p =  np.arange(0.3, 1.8, 0.3)\n",
    "q = 1.8-p\n",
    "print('P=%.3f Q=%.3f' % (sum(p), sum(q)))\n",
    "combine = np.c_[p , q]"
   ]
  },
  {
   "cell_type": "code",
   "execution_count": 141,
   "id": "11725f4d",
   "metadata": {},
   "outputs": [],
   "source": [
    "entropy = [entropy(pair) for pair in combine]"
   ]
  },
  {
   "cell_type": "code",
   "execution_count": 142,
   "id": "097a8f7a",
   "metadata": {},
   "outputs": [
    {
     "data": {
      "text/plain": [
       "[<matplotlib.lines.Line2D at 0x1972489cd00>]"
      ]
     },
     "execution_count": 142,
     "metadata": {},
     "output_type": "execute_result"
    },
    {
     "data": {
      "image/png": "[encoded data removed]",
      "text/plain": [
       "<Figure size 640x480 with 1 Axes>"
      ]
     },
     "metadata": {},
     "output_type": "display_data"
    }
   ],
   "source": [
    "plt.plot(p, entropy)"
   ]
  },
  {
   "cell_type": "markdown",
   "id": "fc043f1d",
   "metadata": {},
   "source": [
    "test_cross_entropy"
   ]
  },
  {
   "cell_type": "code",
   "execution_count": 144,
   "id": "77f4c026",
   "metadata": {},
   "outputs": [],
   "source": [
    "loss_fn = tf.keras.losses.CategoricalCrossentropy(\n",
    "    from_logits=False,\n",
    "    label_smoothing=0,\n",
    "    axis=-1,\n",
    "    reduction=\"auto\",\n",
    "    name='categorical_crossentropy'\n",
    ")"
   ]
  },
  {
   "cell_type": "code",
   "execution_count": 145,
   "id": "0e7c3268",
   "metadata": {},
   "outputs": [
    {
     "data": {
      "text/plain": [
       "9.051090238084548"
      ]
     },
     "execution_count": 145,
     "metadata": {},
     "output_type": "execute_result"
    }
   ],
   "source": [
    "\n",
    "loss_fn(p, q).numpy()"
   ]
  },
  {
   "cell_type": "code",
   "execution_count": 159,
   "id": "54611da0",
   "metadata": {},
   "outputs": [
    {
     "data": {
      "text/plain": [
       "9.051090238084548"
      ]
     },
     "execution_count": 159,
     "metadata": {},
     "output_type": "execute_result"
    }
   ],
   "source": [
    "# Using 'auto'/'sum_over_batch_size' reduction type.\n",
    "loss_fn = tf.keras.losses.CategoricalCrossentropy()\n",
    "loss_fn(p, q).numpy()"
   ]
  },
  {
   "cell_type": "code",
   "execution_count": 147,
   "id": "103148ff",
   "metadata": {},
   "outputs": [
    {
     "data": {
      "text/plain": [
       "9.051090238084548"
      ]
     },
     "execution_count": 147,
     "metadata": {},
     "output_type": "execute_result"
    }
   ],
   "source": [
    " # Using 'sum' reduction type.\n",
    "loss_fn = tf.keras.losses.CategoricalCrossentropy( reduction=tf.keras.losses.Reduction.SUM)\n",
    "loss_fn(p , q).numpy()"
   ]
  },
  {
   "cell_type": "code",
   "execution_count": 148,
   "id": "0b9b29dc",
   "metadata": {},
   "outputs": [
    {
     "data": {
      "text/plain": [
       "9.051090238084548"
      ]
     },
     "execution_count": 148,
     "metadata": {},
     "output_type": "execute_result"
    }
   ],
   "source": [
    " # Using 'none' reduction type.\n",
    "loss_fn = tf.keras.losses.CategoricalCrossentropy(reduction=tf.keras.losses.Reduction.NONE)\n",
    "loss_fn(p ,q).numpy()"
   ]
  },
  {
   "cell_type": "markdown",
   "id": "d6740da4",
   "metadata": {},
   "source": [
    "test_binary_cross_entropy"
   ]
  },
  {
   "cell_type": "code",
   "execution_count": 149,
   "id": "ae59875d",
   "metadata": {},
   "outputs": [],
   "source": [
    "loss_bn = tf.keras.losses.BinaryCrossentropy(\n",
    "    from_logits=False,\n",
    "    label_smoothing=0,\n",
    "    axis=-1,\n",
    "    reduction=\"auto\",\n",
    "    name='binary_crossentropy'\n",
    ")"
   ]
  },
  {
   "cell_type": "code",
   "execution_count": 150,
   "id": "876b85a8",
   "metadata": {},
   "outputs": [
    {
     "data": {
      "text/plain": [
       "3.8699759698423533"
      ]
     },
     "execution_count": 150,
     "metadata": {},
     "output_type": "execute_result"
    }
   ],
   "source": [
    "loss_bn(p, q).numpy()"
   ]
  },
  {
   "cell_type": "code",
   "execution_count": 151,
   "id": "fcee41dd",
   "metadata": {},
   "outputs": [
    {
     "data": {
      "text/plain": [
       "0.6295385630014568"
      ]
     },
     "execution_count": 151,
     "metadata": {},
     "output_type": "execute_result"
    }
   ],
   "source": [
    "# Using 'sum' reduction` type.\n",
    "loss_bn = tf.keras.losses.BinaryCrossentropy(from_logits=True, reduction=tf.keras.losses.Reduction.SUM)\n",
    "loss_bn(p, q).numpy()"
   ]
  },
  {
   "cell_type": "code",
   "execution_count": 152,
   "id": "ce1aa036",
   "metadata": {},
   "outputs": [
    {
     "data": {
      "text/plain": [
       "0.6295385630014568"
      ]
     },
     "execution_count": 152,
     "metadata": {},
     "output_type": "execute_result"
    }
   ],
   "source": [
    ">>> # Using 'none' reduction type.\n",
    "loss_bn = tf.keras.losses.BinaryCrossentropy(from_logits=True,reduction=tf.keras.losses.Reduction.NONE)\n",
    "loss_bn(p, q).numpy()\n"
   ]
  },
  {
   "cell_type": "markdown",
   "id": "ed45e7b9",
   "metadata": {},
   "source": [
    "test_sparse_cross_entropy"
   ]
  },
  {
   "cell_type": "code",
   "execution_count": 153,
   "id": "f42e5534",
   "metadata": {},
   "outputs": [],
   "source": [
    "y_true = [1, 2 ]\n",
    "y_pred = [[0.05, 0.95, 0], [0.1, 0.8, 0.1]]"
   ]
  },
  {
   "cell_type": "code",
   "execution_count": 154,
   "id": "c7fe2458",
   "metadata": {},
   "outputs": [],
   "source": [
    "loss_sn = tf.keras.losses.SparseCategoricalCrossentropy(\n",
    "    from_logits=False,\n",
    "    ignore_class=None,\n",
    "    reduction=\"auto\",\n",
    "    name='sparse_categorical_crossentropy'\n",
    ")"
   ]
  },
  {
   "cell_type": "code",
   "execution_count": 155,
   "id": "e8a08e6b",
   "metadata": {},
   "outputs": [
    {
     "data": {
      "text/plain": [
       "1.1769392"
      ]
     },
     "execution_count": 155,
     "metadata": {},
     "output_type": "execute_result"
    }
   ],
   "source": [
    "loss_sn(y_true, y_pred).numpy()"
   ]
  },
  {
   "cell_type": "code",
   "execution_count": 156,
   "id": "83730fe8",
   "metadata": {},
   "outputs": [
    {
     "data": {
      "text/plain": [
       "0.8135988"
      ]
     },
     "execution_count": 156,
     "metadata": {},
     "output_type": "execute_result"
    }
   ],
   "source": [
    "# Calling with 'sample_weight'.\n",
    "loss_sn(y_true, y_pred, sample_weight=tf.constant([0.3, 0.7])).numpy()"
   ]
  },
  {
   "cell_type": "code",
   "execution_count": 157,
   "id": "7d22c461",
   "metadata": {},
   "outputs": [
    {
     "data": {
      "text/plain": [
       "2.3538785"
      ]
     },
     "execution_count": 157,
     "metadata": {},
     "output_type": "execute_result"
    }
   ],
   "source": [
    "# Using 'sum' reduction type.\n",
    "loss_sn = tf.keras.losses.SparseCategoricalCrossentropy(reduction=tf.keras.losses.Reduction.SUM)\n",
    "loss_sn(y_true, y_pred).numpy()"
   ]
  },
  {
   "cell_type": "code",
   "execution_count": 158,
   "id": "92ab530a",
   "metadata": {},
   "outputs": [
    {
     "data": {
      "text/plain": [
       "array([0.05129344, 2.3025851 ], dtype=float32)"
      ]
     },
     "execution_count": 158,
     "metadata": {},
     "output_type": "execute_result"
    }
   ],
   "source": [
    "# Using 'none' reduction type.\n",
    "loss_sn = tf.keras.losses.SparseCategoricalCrossentropy(reduction=tf.keras.losses.Reduction.NONE)\n",
    "loss_sn(y_true, y_pred).numpy()"
   ]
  },
  {
   "cell_type": "code",
   "execution_count": null,
   "id": "9275d732",
   "metadata": {},
   "outputs": [],
   "source": []
  }
 ],
 "metadata": {
  "kernelspec": {
   "display_name": "Python 3 (ipykernel)",
   "language": "python",
   "name": "python3"
  },
  "language_info": {
   "codemirror_mode": {
    "name": "ipython",
    "version": 3
   },
   "file_extension": ".py",
   "mimetype": "text/x-python",
   "name": "python",
   "nbconvert_exporter": "python",
   "pygments_lexer": "ipython3",
   "version": "3.10.5"
  }
 },
 "nbformat": 4,
 "nbformat_minor": 5
}
